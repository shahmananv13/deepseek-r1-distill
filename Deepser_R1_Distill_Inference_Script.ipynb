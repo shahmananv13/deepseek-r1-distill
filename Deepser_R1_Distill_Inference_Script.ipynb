{
  "nbformat": 4,
  "nbformat_minor": 0,
  "metadata": {
    "colab": {
      "provenance": []
    },
    "kernelspec": {
      "name": "python3",
      "display_name": "Python 3"
    },
    "language_info": {
      "name": "python"
    }
  },
  "cells": [
    {
      "cell_type": "code",
      "execution_count": null,
      "metadata": {
        "colab": {
          "base_uri": "https://localhost:8080/"
        },
        "id": "3bHgb6s5R0n2",
        "outputId": "11602c29-f9ad-42ff-8fc5-15e2bc937686"
      },
      "outputs": [
        {
          "output_type": "stream",
          "name": "stdout",
          "text": [
            "Response:\n",
            "{\"response\":{\"id\":\"chatcmpl-eddd63d698f141d9b4636d672de3f41f\",\"object\":\"chat.completion\",\"created\":1738242866,\"model\":\"deepseek-ai/DeepSeek-R1-Distill-Qwen-1.5B\",\"choices\":[{\"index\":0,\"message\":{\"role\":\"assistant\",\"content\":\"<think>\\nAlright, the user is asking about the best places to shop in Paris for their visit. They didn't specify the destination date or any additional information, but I'll assume it's a general question. Paris is a major city with STL having a(speed limit) of 150, so maybe they were referring to the Île Saint-Louis, a tourist area.\\n\\nI should consider different types of shopping—both lifestyle and cultural. Let's break it down into lifestyle places and cultural ones. For lifestyle shopping,[midtown is a good bet with концеamière and Logothèque. знач searchable-limited-arts contributes to the vibrant atmosphere.\\n\\nCultural spots could be Nice, which has奋é architecture, an art museum, and attractions. Th lied in Paris is another cultural hub with shops on the curve, symbolize Parisian creativity, and the Louvre as a central destination.\\n\\nTech-driven areas include Parc des Princes and St.-ex-t原因，which provide diverse shopping. Atelie attaché and La Triniére are good for art and special stalls. Roscrerian is an industrial zone, more for shopping, so that fits.\\n\\nAlespin offers authentic French workshops. Clobe, Barbiers, and Geo views add cultural touches with art galleries or vineyards. Rive-la-Ville has shops with boats in the front and upscale living.\\n\\nBou le Ré has classic shops with\\nand the Capodistship, a trendy area. Jeta Street is a shopping complex with cultural history. Senalo will help you explore])\\n\\nPutting it all together, I'll categorize each spot, highlighting why they're special and including links. This makes the answer comprehensive for the user. I should also make sure to explain a bit about each area's unique aspects so the user gets a better idea. Keeping the tone friendly and informative without being too technical will help them decide based on their interests.\\n</think>\\n\\nParis, the capital of France, has several shopping destinations that cater to different interests, preferences, and experiences. Here’s a breakdown of the top places you might want to shop in Paris:\\n\\n### 1. **Midtown東宜会社 (H友们_seto精准)\\n   - **Why to shop here?** Home to The Endless Field, an innovative artecutal shop that blends fashion, architecture, and design. Located just outside the Île Saint-Louis, these shops provide a modern, gritty, and vibrant atmosphere.\\n   - **Why to visit?** Perfect for fashion-conscious customers looking for a unique, eclectic retailer.\\n\\n### 2. **Lavé Payload_elim (Chalyon)\\n   - **Why to shop here?**-known for its metal and minimalist designs, Lavé Payload_elim is packed with精品 by collaborations like CHLOE and RAPID. Ideal for fashion lovers who enjoy a simple and stylish look.\\n   - **Why to visit?** Bring your bag and enjoy amalefical designs and versatility.\\n\\n### 3. ** signify (Stéphanie)\\n   - **Why to shop here?** Located on Île Saint-Louis, signify is a prime spot for authentic Parisian stores. You’ll find itegés, jewelry, watches, and other=size-favored items. It’s known for its vibrant vibe and strong streets side.\\n   - **Why to visit?** If you’re into authentic pedestrian shops and authentic Parisian home-decor, this is the place.\\n\\n### 4. **aginaletion in Paris (istributor-limited-arts (speed limit 150))\\n   - **Why to shop here?** Distribute-limited-arts is a mix of artistic expressions and shopping. This spot highlights the intersection of art, fashion, and culture, with cutting-edge art collaboratively展出.\\n   - **Why to visit?** A dynamic hub of creative expression and style.\\n\\n### 5. **L_Block attaché ( Epidize)\\n   - **Why to shop here?** This trendy street art shop can be combined with shopping. You’ll find设计师 performing art on props as you browse for unique fashion dB Décor or accessories.\\n   - **Why to visit?** Ideal for dor,[], a street art gallery with interactive components and street food.\\n\\n### 6. **Eff_that-à-làir (AP)\\n   - **Why to shop here?** Located on Île Saint-Louis, Eff_that-à-làir is a mix of phonetic and street stores. It collects and sells books, preserves, and macOS items from Parisian donors. Plus, there are boutique shops and galleries.\\n   - **Why to visit?** Perfect for a nostalgic shopping experience with up-to-date and authentic items.\\n\\n### 7. **𫄻 (Roscreatic.Plancherel)\\n   - **Why to shop here?** This industrial zone contains street shops and boutiques set up with large, narrow, and often metal buildings. It’s one of the largest shopping areas in Paris, with art and Englistic Francis Jrios hallmark shops.\\n   - **Why to visit?** A must-visit for isles, Outlets, and authentic.setBounds.\\n\\n### 8. **Alespin (Atomium Arrival)\\n   - **Why to shop here?** Famous for hosting authentic cultural workshops by Anse’s, this isles is a mix of vintage street shops and galleries showcasing Parisian culture.\\n   - **Why to visit?** A unique mix of markets, boutiques, and street entertainment.\\n\\n### 9. **Clobe du Traitable\\n   - **Why to shop here?** Highly touristy, Clobe du Traitable is a mix of clothing,特产, and unique browse spaces. It’s perfect for fashion lovers looking for rare or up-to-date clothes.\\n   - **Why to visit?** Explore rare items, local wines, and传统文化.\\n\\n### 10. **Barbiers duvernay (Diamondassing)\\n   - **Why to shop here?** barbersss—big for authentic.nb traditions, fashion shows, and wine tastings. It’s a unique mix of niche fashion and world-class diners.\\n   - **Why to visit?** If you’re into France’s pastries, ales, and culinary art, this isles is worth a trip.\\n\\n### 11. **Geo (Geocive)\\n   - **Why to shop here?** At Geo, you can buy wines,igrated food, and traditional items from the_FILES of Paris. It’s a charming streetside spot, perfect for exploring the area.\\n   - **Why to visit?** Explore traditional药物,工艺, and local cuisine.\\n\\n### 12. **Rive-la-Ville (Nouveau Partnership between Rive and Le Cou va ge)\\n   - **Why to shop here?** This vintage裼-doc store’s streets resemble old Manhattan streets, offering replica shops and panel houses. It’s a must-visit for someone who wants authentic vintage shopping.\\n   - **Why to visit?** A mix of vintage, pragmatist stores, and street food.\\n\\n### 13. **Bou le Ré (Brochez-infinite)\\n   - **Why to shop here?** If you enjoy authentic numeral art, Karine Lamb Opcode’siou, and traveling with friends, de\\tHX-infinite is a slice of Paris’s past. It’s a mix of street shops, cafes, and art galleries.\\n   - **Why to visit?** Highlight the intersection of art, fashion, and street culture.\\n\\n### 14. **Signaire ['-à-làir (Bocage)\\n   - **Why to shop here?** This streetside boutique mix resets to style and is a highlight of Île Saint-Louis. It houses设计师 performers, glassware items, and global fashion;\\n   - **Why to visit?** Explore unique Judaic jewelry and boutiques, surrounded by pedestrian streets.\\n\\n### 15. **Jeta Street (Rabia)\\n   - **Why to shop here?** Jeta Street is a shopping complex along the Seine/Plystropo avenue. It’s a mix of street shops, cafes, and boutiques offering authentic, uniqueяд-pythonian items. Perfect for friends or shoppers.\\n   - **Why to visit?** It’s a vibrant stretch with a strong ‘rapids culture.\\n\\n### 16. **Senalo (Detlev)\\n   - **Why to shop here?** Senalo is a mix of experimental music, live playing art, and street music. It’s a gateway to exploring Paris’s cultural history, with local shops, galleries, and live music events.\\n   - **Why to visit?** If you’re into live music or street art, Senalo is a must-visit.\\n\\n### Final Note:\\nParis is a dynamic city with a wide range of shopping options, from trendy boutiques and street tiers to cultural art and historical sites. Based on personal interests—be it cultural explorations, fashion, art, or street food—the perfect shopping destination can be found depending on the vibe you’re looking for.\",\"tool_calls\":[]},\"logprobs\":null,\"finish_reason\":\"stop\",\"stop_reason\":null}],\"usage\":{\"prompt_tokens\":13,\"total_tokens\":1879,\"completion_tokens\":1866,\"prompt_tokens_details\":null},\"prompt_logprobs\":null}}\n"
          ]
        }
      ],
      "source": [
        "import requests\n",
        "url = \"https://66e7-35-197-155-192.ngrok-free.app/api/v1/generate-response\"\n",
        "\n",
        "data = {\n",
        "    \"question\": \"which is the best place in paris for shopping?\",\n",
        "    \"model\": \"deepseek-ai/DeepSeek-R1-Distill-Qwen-1.5B\"\n",
        "}\n",
        "\n",
        "headers = {\n",
        "    \"Content-Type\": \"application/json\"\n",
        "}\n",
        "\n",
        "try:\n",
        "    response = requests.post(url, json=data, headers=headers)\n",
        "\n",
        "    if response.status_code == 200:\n",
        "        print(\"Response:\")\n",
        "        print(response.text)\n",
        "    else:\n",
        "        print(f\"Error: {response.status_code} - {response.reason}\")\n",
        "        print(response.text)\n",
        "except requests.exceptions.RequestException as e:\n",
        "    print(f\"An error occurred: {e}\")\n"
      ]
    },
    {
      "cell_type": "code",
      "source": [
        "import json\n",
        "resp = json.loads(response.text)"
      ],
      "metadata": {
        "id": "7NyMn-FAR9u0"
      },
      "execution_count": null,
      "outputs": []
    },
    {
      "cell_type": "code",
      "source": [
        "resp"
      ],
      "metadata": {
        "colab": {
          "base_uri": "https://localhost:8080/"
        },
        "id": "YJfo8yhVUpMw",
        "outputId": "e1d124d5-1d71-4ab0-8be2-a734cd029466"
      },
      "execution_count": null,
      "outputs": [
        {
          "output_type": "execute_result",
          "data": {
            "text/plain": [
              "{'response': {'id': 'chatcmpl-eddd63d698f141d9b4636d672de3f41f',\n",
              "  'object': 'chat.completion',\n",
              "  'created': 1738242866,\n",
              "  'model': 'deepseek-ai/DeepSeek-R1-Distill-Qwen-1.5B',\n",
              "  'choices': [{'index': 0,\n",
              "    'message': {'role': 'assistant',\n",
              "     'content': \"<think>\\nAlright, the user is asking about the best places to shop in Paris for their visit. They didn't specify the destination date or any additional information, but I'll assume it's a general question. Paris is a major city with STL having a(speed limit) of 150, so maybe they were referring to the Île Saint-Louis, a tourist area.\\n\\nI should consider different types of shopping—both lifestyle and cultural. Let's break it down into lifestyle places and cultural ones. For lifestyle shopping,[midtown is a good bet with концеamière and Logothèque. знач searchable-limited-arts contributes to the vibrant atmosphere.\\n\\nCultural spots could be Nice, which has奋é architecture, an art museum, and attractions. Th lied in Paris is another cultural hub with shops on the curve, symbolize Parisian creativity, and the Louvre as a central destination.\\n\\nTech-driven areas include Parc des Princes and St.-ex-t原因，which provide diverse shopping. Atelie attaché and La Triniére are good for art and special stalls. Roscrerian is an industrial zone, more for shopping, so that fits.\\n\\nAlespin offers authentic French workshops. Clobe, Barbiers, and Geo views add cultural touches with art galleries or vineyards. Rive-la-Ville has shops with boats in the front and upscale living.\\n\\nBou le Ré has classic shops with\\nand the Capodistship, a trendy area. Jeta Street is a shopping complex with cultural history. Senalo will help you explore])\\n\\nPutting it all together, I'll categorize each spot, highlighting why they're special and including links. This makes the answer comprehensive for the user. I should also make sure to explain a bit about each area's unique aspects so the user gets a better idea. Keeping the tone friendly and informative without being too technical will help them decide based on their interests.\\n</think>\\n\\nParis, the capital of France, has several shopping destinations that cater to different interests, preferences, and experiences. Here’s a breakdown of the top places you might want to shop in Paris:\\n\\n### 1. **Midtown東宜会社 (H友们_seto精准)\\n   - **Why to shop here?** Home to The Endless Field, an innovative artecutal shop that blends fashion, architecture, and design. Located just outside the Île Saint-Louis, these shops provide a modern, gritty, and vibrant atmosphere.\\n   - **Why to visit?** Perfect for fashion-conscious customers looking for a unique, eclectic retailer.\\n\\n### 2. **Lavé Payload_elim (Chalyon)\\n   - **Why to shop here?**-known for its metal and minimalist designs, Lavé Payload_elim is packed with精品 by collaborations like CHLOE and RAPID. Ideal for fashion lovers who enjoy a simple and stylish look.\\n   - **Why to visit?** Bring your bag and enjoy amalefical designs and versatility.\\n\\n### 3. ** signify (Stéphanie)\\n   - **Why to shop here?** Located on Île Saint-Louis, signify is a prime spot for authentic Parisian stores. You’ll find itegés, jewelry, watches, and other=size-favored items. It’s known for its vibrant vibe and strong streets side.\\n   - **Why to visit?** If you’re into authentic pedestrian shops and authentic Parisian home-decor, this is the place.\\n\\n### 4. **aginaletion in Paris (istributor-limited-arts (speed limit 150))\\n   - **Why to shop here?** Distribute-limited-arts is a mix of artistic expressions and shopping. This spot highlights the intersection of art, fashion, and culture, with cutting-edge art collaboratively展出.\\n   - **Why to visit?** A dynamic hub of creative expression and style.\\n\\n### 5. **L_Block attaché ( Epidize)\\n   - **Why to shop here?** This trendy street art shop can be combined with shopping. You’ll find设计师 performing art on props as you browse for unique fashion dB Décor or accessories.\\n   - **Why to visit?** Ideal for dor,[], a street art gallery with interactive components and street food.\\n\\n### 6. **Eff_that-à-làir (AP)\\n   - **Why to shop here?** Located on Île Saint-Louis, Eff_that-à-làir is a mix of phonetic and street stores. It collects and sells books, preserves, and macOS items from Parisian donors. Plus, there are boutique shops and galleries.\\n   - **Why to visit?** Perfect for a nostalgic shopping experience with up-to-date and authentic items.\\n\\n### 7. **𫄻 (Roscreatic.Plancherel)\\n   - **Why to shop here?** This industrial zone contains street shops and boutiques set up with large, narrow, and often metal buildings. It’s one of the largest shopping areas in Paris, with art and Englistic Francis Jrios hallmark shops.\\n   - **Why to visit?** A must-visit for isles, Outlets, and authentic.setBounds.\\n\\n### 8. **Alespin (Atomium Arrival)\\n   - **Why to shop here?** Famous for hosting authentic cultural workshops by Anse’s, this isles is a mix of vintage street shops and galleries showcasing Parisian culture.\\n   - **Why to visit?** A unique mix of markets, boutiques, and street entertainment.\\n\\n### 9. **Clobe du Traitable\\n   - **Why to shop here?** Highly touristy, Clobe du Traitable is a mix of clothing,特产, and unique browse spaces. It’s perfect for fashion lovers looking for rare or up-to-date clothes.\\n   - **Why to visit?** Explore rare items, local wines, and传统文化.\\n\\n### 10. **Barbiers duvernay (Diamondassing)\\n   - **Why to shop here?** barbersss—big for authentic.nb traditions, fashion shows, and wine tastings. It’s a unique mix of niche fashion and world-class diners.\\n   - **Why to visit?** If you’re into France’s pastries, ales, and culinary art, this isles is worth a trip.\\n\\n### 11. **Geo (Geocive)\\n   - **Why to shop here?** At Geo, you can buy wines,igrated food, and traditional items from the_FILES of Paris. It’s a charming streetside spot, perfect for exploring the area.\\n   - **Why to visit?** Explore traditional药物,工艺, and local cuisine.\\n\\n### 12. **Rive-la-Ville (Nouveau Partnership between Rive and Le Cou va ge)\\n   - **Why to shop here?** This vintage裼-doc store’s streets resemble old Manhattan streets, offering replica shops and panel houses. It’s a must-visit for someone who wants authentic vintage shopping.\\n   - **Why to visit?** A mix of vintage, pragmatist stores, and street food.\\n\\n### 13. **Bou le Ré (Brochez-infinite)\\n   - **Why to shop here?** If you enjoy authentic numeral art, Karine Lamb Opcode’siou, and traveling with friends, de\\tHX-infinite is a slice of Paris’s past. It’s a mix of street shops, cafes, and art galleries.\\n   - **Why to visit?** Highlight the intersection of art, fashion, and street culture.\\n\\n### 14. **Signaire ['-à-làir (Bocage)\\n   - **Why to shop here?** This streetside boutique mix resets to style and is a highlight of Île Saint-Louis. It houses设计师 performers, glassware items, and global fashion;\\n   - **Why to visit?** Explore unique Judaic jewelry and boutiques, surrounded by pedestrian streets.\\n\\n### 15. **Jeta Street (Rabia)\\n   - **Why to shop here?** Jeta Street is a shopping complex along the Seine/Plystropo avenue. It’s a mix of street shops, cafes, and boutiques offering authentic, uniqueяд-pythonian items. Perfect for friends or shoppers.\\n   - **Why to visit?** It’s a vibrant stretch with a strong ‘rapids culture.\\n\\n### 16. **Senalo (Detlev)\\n   - **Why to shop here?** Senalo is a mix of experimental music, live playing art, and street music. It’s a gateway to exploring Paris’s cultural history, with local shops, galleries, and live music events.\\n   - **Why to visit?** If you’re into live music or street art, Senalo is a must-visit.\\n\\n### Final Note:\\nParis is a dynamic city with a wide range of shopping options, from trendy boutiques and street tiers to cultural art and historical sites. Based on personal interests—be it cultural explorations, fashion, art, or street food—the perfect shopping destination can be found depending on the vibe you’re looking for.\",\n",
              "     'tool_calls': []},\n",
              "    'logprobs': None,\n",
              "    'finish_reason': 'stop',\n",
              "    'stop_reason': None}],\n",
              "  'usage': {'prompt_tokens': 13,\n",
              "   'total_tokens': 1879,\n",
              "   'completion_tokens': 1866,\n",
              "   'prompt_tokens_details': None},\n",
              "  'prompt_logprobs': None}}"
            ]
          },
          "metadata": {},
          "execution_count": 35
        }
      ]
    },
    {
      "cell_type": "code",
      "source": [],
      "metadata": {
        "id": "Zd5cQ69PVLw6"
      },
      "execution_count": null,
      "outputs": []
    },
    {
      "cell_type": "code",
      "source": [],
      "metadata": {
        "id": "OOpWbvxzVRkN"
      },
      "execution_count": null,
      "outputs": []
    }
  ]
}